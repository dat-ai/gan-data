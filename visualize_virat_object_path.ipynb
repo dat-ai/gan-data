{
 "cells": [
  {
   "cell_type": "markdown",
   "metadata": {},
   "source": [
    "# VIRAT Dataset Preprocessing Report"
   ]
  },
  {
   "cell_type": "code",
   "execution_count": 1,
   "metadata": {
    "collapsed": true
   },
   "outputs": [],
   "source": [
    "EXAMPLE                = 'VIRAT_S_000201_07_001485_001581'\n",
    "SELECTED_OBJECT_TYPE   = [ 2, 3]  # only pick pedastrian, car or vehicles\n",
    "object_anno_fields     = ['object_id', 'object_duration', 'current_frame','left_top_x','left_top_y', 'width', 'height', 'object_type']\n",
    "\n",
    "DEFAULT_ANNOTATION_DIR = './annotations'\n",
    "DEFAULT_VIDEO_DIR      = './videos_original'\n"
   ]
  },
  {
   "cell_type": "code",
   "execution_count": 2,
   "metadata": {
    "collapsed": true
   },
   "outputs": [],
   "source": [
    "import cv2\n",
    "import numpy as np\n",
    "import matplotlib.pyplot as plt\n",
    "%matplotlib inline"
   ]
  },
  {
   "cell_type": "code",
   "execution_count": 3,
   "metadata": {},
   "outputs": [],
   "source": [
    "class Color(object):\n",
    "    '''Simple Color Mapper'''\n",
    "    red    = [255, 0, 0]\n",
    "    green  = [0, 255, 0]\n",
    "    blue   = [0, 0, 255]\n",
    "    yellow = [255, 255, 0]\n",
    "    def random(self): return np.random.randint(0, 255, size=3)\n",
    "    \n",
    "def generate_object_trajectory(image, boxes_list, color, opacity=50):\n",
    "    ''' Visualize object path on video using list of boxes from ground truths'''\n",
    "    copied_img = np.copy(image)\n",
    "    transparency = opacity/100.\n",
    "    for (p1, p2) in boxes_list:\n",
    "        # Calculate centroid\n",
    "        x = p1[0] + (p2[0] - p1[0])/2.\n",
    "        y = p1[1] + (p2[1] - p1[1])/2.\n",
    "        centroid = (int(x), int(y))\n",
    "        \n",
    "        drawed_img = cv2.circle(copied_img, centroid, radius=3, color=color)\n",
    "        # apply the overlay\n",
    "        cv2.addWeighted(copied_img, 1 - transparency, \n",
    "                        drawed_img, transparency, 0, copied_img)\n",
    "    return copied_img\n",
    "\n",
    "def generate_focused_area_mask(image, boxes_list, offset, color, thickness=5):\n",
    "    '''Gernate focused area'''\n",
    "    \n",
    "    bboxes = np.array(boxes_list)\n",
    "    height, width, _ = image.shape\n",
    "    \n",
    "    min_x = max(min(filter_ouliner(bboxes[:, 0, 0] - offset)), 0.)\n",
    "    min_y = max(min(filter_ouliner(bboxes[:, 0, 1] - offset)), 0.)\n",
    "    max_x = min(max(bboxes[:, 1, 0] + offset), width)\n",
    "    max_y = min(max(bboxes[:, 1, 1] + offset), height)\n",
    "    \n",
    "    \n",
    "    mask = np.zeros_like(image)\n",
    "    mask = cv2.rectangle(mask, (int(min_x), int(min_y)), (int(max_x), int(max_y)), color, thickness=5)\n",
    "\n",
    "    return mask\n",
    "\n",
    "def filter_ouliner(data,m = 2):\n",
    "    data = data[abs(data - np.mean(data)) < m * np.std(data)]\n",
    "    if len(data) > 0:\n",
    "        return data\n",
    "    else:\n",
    "        return [np.mean(data)]\n"
   ]
  },
  {
   "cell_type": "markdown",
   "metadata": {},
   "source": [
    "## Proccess Object Annotation File \n",
    "File format: `*viratdata.objects.txt`\n",
    "\n",
    "|Column| Type |Comment|\n",
    "|---|:------|:--------|\n",
    "|1| Object id|a unique identifier of an object track. Unique within a file.|\n",
    "|2| Object duration | duration of the object track|\n",
    "|3| Currnet frame|corresponding frame number|\n",
    "|4| bbox lefttop x|horizontal x coordinate of the left top of bbox, origin is lefttop of the frame|\n",
    "|5| bbox lefttop y|vertical y coordinate of the left top of bbox, origin is lefttop of the frame|\n",
    "|6| bbox width|horizontal width of the bbox|\n",
    "|7| bbox height|vertical height of the bbox|\n",
    "|8| Object Type|object type|\n",
    "\n",
    "Object Type ID (for column 8 above for object files)\n",
    "\n",
    "ID | Type|\n",
    "---|:----|\n",
    "1| person\n",
    "2| car              (usually passenger vehicles such as sedan, truck)\n",
    "3| vehicles         (vehicles other than usual passenger cars. Examples include construction vehicles)\n",
    "4| object           (neither car or person, usually carried objects)\n",
    "5| bike, bicylces   (may include engine-powered auto-bikes)"
   ]
  },
  {
   "cell_type": "code",
   "execution_count": 4,
   "metadata": {},
   "outputs": [
    {
     "name": "stdout",
     "output_type": "stream",
     "text": [
      "Object is not in selected object type\n",
      "Object is not in selected object type\n",
      "Number of annotated objects in the video 3\n"
     ]
    }
   ],
   "source": [
    "import os\n",
    "import pandas as pd\n",
    "\n",
    "annotation_path = os.path.join(DEFAULT_ANNOTATION_DIR, EXAMPLE + '.viratdata.objects.txt')\n",
    "\n",
    "    \n",
    "# Load file into data frames\n",
    "df = pd.read_csv(annotation_path, delim_whitespace =True, names=object_anno_fields)\n",
    "\n",
    "# Group each objects appeared in the video by object id\n",
    "separated_objects_by_id = df.groupby('object_id')\n",
    "\n",
    "# Generate a list of _boxes for each objects appear in the video\n",
    "object_bboxes = []\n",
    "temp_frames = []\n",
    "\n",
    "for id, obj in separated_objects_by_id:\n",
    "    # Only ke\n",
    "    if obj['object_type'].values[0] not in SELECTED_OBJECT_TYPE:\n",
    "        print('Object is not in selected object type')\n",
    "        continue\n",
    "    # Extract the bounding boxes\n",
    "    upper_left_pts   = zip(obj['left_top_x'].values, obj['left_top_y'].values)\n",
    "    width_height_lst = zip(obj['width'].values,      obj['height'].values)\n",
    "    lower_right_pts  = [(px + w, py + h) for (px, py),(w, h) in zip(upper_left_pts, width_height_lst)]\n",
    "    bbox_lst = [[(px1, py1), (px2, py2)] for (px1, py1), (px2, py2) in zip(upper_left_pts, lower_right_pts)]\n",
    "    object_bboxes.append(bbox_lst)\n",
    "    temp_frames.append(obj)\n",
    "  \n",
    "print \"Number of annotated objects in the video %s\"%len(object_bboxes)\n",
    "grouped_objects = pd.concat(temp_frames).groupby('object_id')"
   ]
  },
  {
   "cell_type": "code",
   "execution_count": 5,
   "metadata": {},
   "outputs": [
    {
     "name": "stdout",
     "output_type": "stream",
     "text": [
      "3\n",
      "[3, 4, 5]\n"
     ]
    }
   ],
   "source": [
    "# pick random object in grouped object\n",
    "import random\n",
    "SELECTED_OBJECT =  random.choice(grouped_objects.groups.keys()) # ID of object in the video\n",
    "OBJECT_IDX      = grouped_objects.groups.keys().index(SELECTED_OBJECT)\n",
    "print SELECTED_OBJECT\n",
    "print grouped_objects.groups.keys()"
   ]
  },
  {
   "cell_type": "code",
   "execution_count": 6,
   "metadata": {},
   "outputs": [
    {
     "name": "stdout",
     "output_type": "stream",
     "text": [
      "Number of required frames: 2875\n"
     ]
    }
   ],
   "source": [
    "# Download FFMEG to display video if not available\n",
    "import imageio\n",
    "imageio.plugins.ffmpeg.download()\n",
    "from moviepy.editor import *\n",
    "\n",
    "# Get path\n",
    "video_path = os.path.join(DEFAULT_VIDEO_DIR, EXAMPLE+'.mp4')\n",
    "\n",
    "# Construct video\n",
    "videoclip = VideoFileClip(video_path)\n",
    "\n",
    "# In this example, we only show the video when the selected object appears\n",
    "appear_frames = grouped_objects.get_group(SELECTED_OBJECT)['current_frame'].values\n",
    "start_frame = np.min(appear_frames)\n",
    "end_frame = np.max(appear_frames)\n",
    "\n",
    "# Select duration object appears\n",
    "clip = videoclip.subclip(start_frame/videoclip.fps, end_frame/videoclip.fps)\n",
    "\n",
    "# Get object bounding boxes\\\n",
    "bboxes_of_object = object_bboxes[OBJECT_IDX]\n",
    "print \"Number of required frames: %s\"%len(bboxes_of_object)"
   ]
  },
  {
   "cell_type": "code",
   "execution_count": 7,
   "metadata": {},
   "outputs": [
    {
     "ename": "ValueError",
     "evalue": "cannot convert float NaN to integer",
     "output_type": "error",
     "traceback": [
      "\u001b[0;31m---------------------------------------------------------------------------\u001b[0m",
      "\u001b[0;31mValueError\u001b[0m                                Traceback (most recent call last)",
      "\u001b[0;32m<ipython-input-7-52ea8120e958>\u001b[0m in \u001b[0;36m<module>\u001b[0;34m()\u001b[0m\n\u001b[1;32m     22\u001b[0m                                                     \u001b[0mbbox_chunk\u001b[0m\u001b[0;34m,\u001b[0m\u001b[0;34m\u001b[0m\u001b[0m\n\u001b[1;32m     23\u001b[0m                                                     \u001b[0mcolor\u001b[0m\u001b[0;34m=\u001b[0m\u001b[0mColor\u001b[0m\u001b[0;34m.\u001b[0m\u001b[0myellow\u001b[0m\u001b[0;34m,\u001b[0m\u001b[0;34m\u001b[0m\u001b[0m\n\u001b[0;32m---> 24\u001b[0;31m                                                     offset=30)\n\u001b[0m\u001b[1;32m     25\u001b[0m     \u001b[0;32mfor\u001b[0m \u001b[0midx\u001b[0m\u001b[0;34m,\u001b[0m \u001b[0;34m(\u001b[0m\u001b[0mp1\u001b[0m\u001b[0;34m,\u001b[0m \u001b[0mp2\u001b[0m\u001b[0;34m)\u001b[0m \u001b[0;32min\u001b[0m \u001b[0menumerate\u001b[0m\u001b[0;34m(\u001b[0m\u001b[0mbbox_chunk\u001b[0m\u001b[0;34m)\u001b[0m\u001b[0;34m:\u001b[0m\u001b[0;34m\u001b[0m\u001b[0m\n\u001b[1;32m     26\u001b[0m         \u001b[0;31m# Get current frame from clip\u001b[0m\u001b[0;34m\u001b[0m\u001b[0;34m\u001b[0m\u001b[0m\n",
      "\u001b[0;32m<ipython-input-3-8a40527eb76a>\u001b[0m in \u001b[0;36mgenerate_focused_area_mask\u001b[0;34m(image, boxes_list, offset, color, thickness)\u001b[0m\n\u001b[1;32m     36\u001b[0m \u001b[0;34m\u001b[0m\u001b[0m\n\u001b[1;32m     37\u001b[0m     \u001b[0mmask\u001b[0m \u001b[0;34m=\u001b[0m \u001b[0mnp\u001b[0m\u001b[0;34m.\u001b[0m\u001b[0mzeros_like\u001b[0m\u001b[0;34m(\u001b[0m\u001b[0mimage\u001b[0m\u001b[0;34m)\u001b[0m\u001b[0;34m\u001b[0m\u001b[0m\n\u001b[0;32m---> 38\u001b[0;31m     \u001b[0mmask\u001b[0m \u001b[0;34m=\u001b[0m \u001b[0mcv2\u001b[0m\u001b[0;34m.\u001b[0m\u001b[0mrectangle\u001b[0m\u001b[0;34m(\u001b[0m\u001b[0mmask\u001b[0m\u001b[0;34m,\u001b[0m \u001b[0;34m(\u001b[0m\u001b[0mint\u001b[0m\u001b[0;34m(\u001b[0m\u001b[0mmin_x\u001b[0m\u001b[0;34m)\u001b[0m\u001b[0;34m,\u001b[0m \u001b[0mint\u001b[0m\u001b[0;34m(\u001b[0m\u001b[0mmin_y\u001b[0m\u001b[0;34m)\u001b[0m\u001b[0;34m)\u001b[0m\u001b[0;34m,\u001b[0m \u001b[0;34m(\u001b[0m\u001b[0mint\u001b[0m\u001b[0;34m(\u001b[0m\u001b[0mmax_x\u001b[0m\u001b[0;34m)\u001b[0m\u001b[0;34m,\u001b[0m \u001b[0mint\u001b[0m\u001b[0;34m(\u001b[0m\u001b[0mmax_y\u001b[0m\u001b[0;34m)\u001b[0m\u001b[0;34m)\u001b[0m\u001b[0;34m,\u001b[0m \u001b[0mcolor\u001b[0m\u001b[0;34m,\u001b[0m \u001b[0mthickness\u001b[0m\u001b[0;34m=\u001b[0m\u001b[0;36m5\u001b[0m\u001b[0;34m)\u001b[0m\u001b[0;34m\u001b[0m\u001b[0m\n\u001b[0m\u001b[1;32m     39\u001b[0m \u001b[0;34m\u001b[0m\u001b[0m\n\u001b[1;32m     40\u001b[0m     \u001b[0;32mreturn\u001b[0m \u001b[0mmask\u001b[0m\u001b[0;34m\u001b[0m\u001b[0m\n",
      "\u001b[0;31mValueError\u001b[0m: cannot convert float NaN to integer"
     ]
    }
   ],
   "source": [
    "# Split each bboxes into chunk for generating focused area\n",
    "bbox_arr = np.asarray(bboxes_of_object)\n",
    "num_chunk =  len(bbox_arr) / 50\n",
    "bbox_chunks = np.array_split(bbox_arr,num_chunk)\n",
    "\n",
    "# Generate a image mask, size of the clip's dimension, contains path of the object\n",
    "empty_mask = np.zeros_like(clip.get_frame(0))\n",
    "\n",
    "object_trajectory = generate_object_trajectory(empty_mask, \n",
    "                                               bboxes_of_object, \n",
    "                                               color=Color.green, \n",
    "                                               opacity=60)\n",
    "    \n",
    "# For each frames, draw all the appear bounding boxes:\n",
    "processed_frames = []\n",
    "prev_frames = 0\n",
    "\n",
    "for bbox_chunk in bbox_chunks:\n",
    "    \n",
    "    prev_frames += len(bbox_chunk)\n",
    "    focused_area_mask =  generate_focused_area_mask(empty_mask, \n",
    "                                                    bbox_chunk, \n",
    "                                                    color=Color.yellow, \n",
    "                                                    offset=45)\n",
    "    for idx, (p1, p2) in enumerate(bbox_chunk):\n",
    "        # Get current frame from clip\n",
    "        frame = clip.get_frame(float(idx+prev_frames-60)/clip.fps)\n",
    "        \n",
    "        # Draw bounding box of the object on current frame\n",
    "        frame = cv2.rectangle(frame, (p1[0], p1[1]), (p2[0], p2[1]), color=Color.green, thickness=4)\n",
    "\n",
    "        # Add object flow mask to current frame\n",
    "        flow_frame = cv2.addWeighted(frame, 1.0, object_trajectory, 0.5, 0)\n",
    "        \n",
    "        # Add focused area to frame\n",
    "        new_frame = cv2.addWeighted(flow_frame, 1.0, focused_area_mask, 1.0, 0)\n",
    "\n",
    "        processed_frames.append(new_frame)\n",
    "        del new_frame, frame"
   ]
  },
  {
   "cell_type": "code",
   "execution_count": null,
   "metadata": {},
   "outputs": [],
   "source": [
    "# Generate new video clip\n",
    "new_clip = ImageSequenceClip(processed_frames, fps=clip.fps)\n",
    "# ipython_display(new_clip, width=320)\n",
    "new_clip.write_videofile('processed_clip_car.mp4', fps=clip.fps)"
   ]
  },
  {
   "cell_type": "code",
   "execution_count": null,
   "metadata": {
    "collapsed": true
   },
   "outputs": [],
   "source": []
  }
 ],
 "metadata": {
  "kernelspec": {
   "display_name": "Python 2",
   "language": "python",
   "name": "python2"
  },
  "language_info": {
   "codemirror_mode": {
    "name": "ipython",
    "version": 2
   },
   "file_extension": ".py",
   "mimetype": "text/x-python",
   "name": "python",
   "nbconvert_exporter": "python",
   "pygments_lexer": "ipython2",
   "version": "2.7.13"
  }
 },
 "nbformat": 4,
 "nbformat_minor": 2
}
