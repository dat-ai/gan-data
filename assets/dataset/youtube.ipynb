{
 "cells": [
  {
   "cell_type": "code",
   "execution_count": 77,
   "metadata": {
    "collapsed": true
   },
   "outputs": [],
   "source": [
    "import pandas as pd\n",
    "import numpy as np"
   ]
  },
  {
   "cell_type": "code",
   "execution_count": 78,
   "metadata": {},
   "outputs": [],
   "source": [
    "\n",
    "headers=['youtube_id','timestamp','class_id','class_name','object_id','object_presense',\n",
    "        'xmin','xmax','ymin','ymax']"
   ]
  },
  {
   "cell_type": "code",
   "execution_count": 79,
   "metadata": {},
   "outputs": [],
   "source": [
    "df = pd.read_csv('youtubebb/youtube_boundingboxes_detection_validation.csv',names=headers)"
   ]
  },
  {
   "cell_type": "code",
   "execution_count": 80,
   "metadata": {
    "collapsed": true
   },
   "outputs": [],
   "source": [
    "df = df[df['class_name'] == 'car']"
   ]
  },
  {
   "cell_type": "code",
   "execution_count": 81,
   "metadata": {},
   "outputs": [
    {
     "data": {
      "text/html": [
       "<div>\n",
       "<style>\n",
       "    .dataframe thead tr:only-child th {\n",
       "        text-align: right;\n",
       "    }\n",
       "\n",
       "    .dataframe thead th {\n",
       "        text-align: left;\n",
       "    }\n",
       "\n",
       "    .dataframe tbody tr th {\n",
       "        vertical-align: top;\n",
       "    }\n",
       "</style>\n",
       "<table border=\"1\" class=\"dataframe\">\n",
       "  <thead>\n",
       "    <tr style=\"text-align: right;\">\n",
       "      <th></th>\n",
       "      <th>youtube_id</th>\n",
       "      <th>timestamp</th>\n",
       "      <th>class_id</th>\n",
       "      <th>class_name</th>\n",
       "      <th>object_id</th>\n",
       "      <th>object_presense</th>\n",
       "      <th>xmin</th>\n",
       "      <th>xmax</th>\n",
       "      <th>ymin</th>\n",
       "      <th>ymax</th>\n",
       "    </tr>\n",
       "  </thead>\n",
       "  <tbody>\n",
       "    <tr>\n",
       "      <th>38</th>\n",
       "      <td>AAQmL_BlrRs</td>\n",
       "      <td>0</td>\n",
       "      <td>23</td>\n",
       "      <td>car</td>\n",
       "      <td>0</td>\n",
       "      <td>present</td>\n",
       "      <td>0.041</td>\n",
       "      <td>1.000</td>\n",
       "      <td>0.161667</td>\n",
       "      <td>0.861667</td>\n",
       "    </tr>\n",
       "    <tr>\n",
       "      <th>39</th>\n",
       "      <td>AAQmL_BlrRs</td>\n",
       "      <td>1000</td>\n",
       "      <td>23</td>\n",
       "      <td>car</td>\n",
       "      <td>0</td>\n",
       "      <td>present</td>\n",
       "      <td>0.039</td>\n",
       "      <td>1.000</td>\n",
       "      <td>0.175000</td>\n",
       "      <td>0.878333</td>\n",
       "    </tr>\n",
       "    <tr>\n",
       "      <th>40</th>\n",
       "      <td>AAQmL_BlrRs</td>\n",
       "      <td>2000</td>\n",
       "      <td>23</td>\n",
       "      <td>car</td>\n",
       "      <td>0</td>\n",
       "      <td>present</td>\n",
       "      <td>0.029</td>\n",
       "      <td>1.000</td>\n",
       "      <td>0.153333</td>\n",
       "      <td>0.850000</td>\n",
       "    </tr>\n",
       "    <tr>\n",
       "      <th>41</th>\n",
       "      <td>AAQmL_BlrRs</td>\n",
       "      <td>3000</td>\n",
       "      <td>23</td>\n",
       "      <td>car</td>\n",
       "      <td>0</td>\n",
       "      <td>present</td>\n",
       "      <td>0.059</td>\n",
       "      <td>1.000</td>\n",
       "      <td>0.108333</td>\n",
       "      <td>0.830000</td>\n",
       "    </tr>\n",
       "    <tr>\n",
       "      <th>42</th>\n",
       "      <td>AAQmL_BlrRs</td>\n",
       "      <td>4000</td>\n",
       "      <td>23</td>\n",
       "      <td>car</td>\n",
       "      <td>0</td>\n",
       "      <td>present</td>\n",
       "      <td>0.000</td>\n",
       "      <td>0.948</td>\n",
       "      <td>0.190000</td>\n",
       "      <td>0.865000</td>\n",
       "    </tr>\n",
       "    <tr>\n",
       "      <th>43</th>\n",
       "      <td>AAQmL_BlrRs</td>\n",
       "      <td>5000</td>\n",
       "      <td>23</td>\n",
       "      <td>car</td>\n",
       "      <td>0</td>\n",
       "      <td>present</td>\n",
       "      <td>0.020</td>\n",
       "      <td>0.990</td>\n",
       "      <td>0.200000</td>\n",
       "      <td>0.863333</td>\n",
       "    </tr>\n",
       "    <tr>\n",
       "      <th>44</th>\n",
       "      <td>AAQmL_BlrRs</td>\n",
       "      <td>6000</td>\n",
       "      <td>23</td>\n",
       "      <td>car</td>\n",
       "      <td>0</td>\n",
       "      <td>present</td>\n",
       "      <td>0.016</td>\n",
       "      <td>0.990</td>\n",
       "      <td>0.170000</td>\n",
       "      <td>0.848333</td>\n",
       "    </tr>\n",
       "    <tr>\n",
       "      <th>45</th>\n",
       "      <td>AAQmL_BlrRs</td>\n",
       "      <td>7000</td>\n",
       "      <td>23</td>\n",
       "      <td>car</td>\n",
       "      <td>0</td>\n",
       "      <td>present</td>\n",
       "      <td>0.000</td>\n",
       "      <td>0.883</td>\n",
       "      <td>0.010000</td>\n",
       "      <td>0.726667</td>\n",
       "    </tr>\n",
       "    <tr>\n",
       "      <th>46</th>\n",
       "      <td>AAQmL_BlrRs</td>\n",
       "      <td>8000</td>\n",
       "      <td>23</td>\n",
       "      <td>car</td>\n",
       "      <td>0</td>\n",
       "      <td>present</td>\n",
       "      <td>0.001</td>\n",
       "      <td>0.808</td>\n",
       "      <td>0.000000</td>\n",
       "      <td>0.751667</td>\n",
       "    </tr>\n",
       "    <tr>\n",
       "      <th>47</th>\n",
       "      <td>AAQmL_BlrRs</td>\n",
       "      <td>9000</td>\n",
       "      <td>23</td>\n",
       "      <td>car</td>\n",
       "      <td>0</td>\n",
       "      <td>present</td>\n",
       "      <td>0.000</td>\n",
       "      <td>1.000</td>\n",
       "      <td>0.011667</td>\n",
       "      <td>0.908333</td>\n",
       "    </tr>\n",
       "  </tbody>\n",
       "</table>\n",
       "</div>"
      ],
      "text/plain": [
       "     youtube_id  timestamp  class_id class_name  object_id object_presense  \\\n",
       "38  AAQmL_BlrRs          0        23        car          0         present   \n",
       "39  AAQmL_BlrRs       1000        23        car          0         present   \n",
       "40  AAQmL_BlrRs       2000        23        car          0         present   \n",
       "41  AAQmL_BlrRs       3000        23        car          0         present   \n",
       "42  AAQmL_BlrRs       4000        23        car          0         present   \n",
       "43  AAQmL_BlrRs       5000        23        car          0         present   \n",
       "44  AAQmL_BlrRs       6000        23        car          0         present   \n",
       "45  AAQmL_BlrRs       7000        23        car          0         present   \n",
       "46  AAQmL_BlrRs       8000        23        car          0         present   \n",
       "47  AAQmL_BlrRs       9000        23        car          0         present   \n",
       "\n",
       "     xmin   xmax      ymin      ymax  \n",
       "38  0.041  1.000  0.161667  0.861667  \n",
       "39  0.039  1.000  0.175000  0.878333  \n",
       "40  0.029  1.000  0.153333  0.850000  \n",
       "41  0.059  1.000  0.108333  0.830000  \n",
       "42  0.000  0.948  0.190000  0.865000  \n",
       "43  0.020  0.990  0.200000  0.863333  \n",
       "44  0.016  0.990  0.170000  0.848333  \n",
       "45  0.000  0.883  0.010000  0.726667  \n",
       "46  0.001  0.808  0.000000  0.751667  \n",
       "47  0.000  1.000  0.011667  0.908333  "
      ]
     },
     "execution_count": 81,
     "metadata": {},
     "output_type": "execute_result"
    }
   ],
   "source": [
    "df[0:10]"
   ]
  },
  {
   "cell_type": "code",
   "execution_count": 86,
   "metadata": {},
   "outputs": [
    {
     "name": "stdout",
     "output_type": "stream",
     "text": [
      "959\n",
      "324\n"
     ]
    }
   ],
   "source": [
    "grouped = df.groupby('youtube_id')\n",
    "print(len(grouped))\n",
    "# Only get videos that have object are bigger than 30% of t he frame\n",
    "def filter_obj(group, threshold=0.3):\n",
    "    area = (group['xmax'] - group['xmin'])*(group['ymax'] - group['ymin']) < 0.01\n",
    "    is_good = area.any()\n",
    "    return is_good\n",
    "\n",
    "grouped = grouped.filter(lambda x: filter_obj(x)).groupby('youtube_id')\n",
    "print(len(grouped))"
   ]
  },
  {
   "cell_type": "code",
   "execution_count": 87,
   "metadata": {},
   "outputs": [
    {
     "data": {
      "image/jpeg": "[encoded data removed]",
      "text/html": [
       "\n",
       "        <iframe\n",
       "            width=\"400\"\n",
       "            height=\"300\"\n",
       "            src=\"https://www.youtube.com/embed/jDGrgBt83DU\"\n",
       "            frameborder=\"0\"\n",
       "            allowfullscreen\n",
       "        ></iframe>\n",
       "        "
      ],
      "text/plain": [
       "<IPython.lib.display.YouTubeVideo at 0x7f5de0c1ff10>"
      ]
     },
     "execution_count": 87,
     "metadata": {},
     "output_type": "execute_result"
    }
   ],
   "source": [
    "from IPython.display import YouTubeVideo\n",
    "\n",
    "idx = 62\n",
    "YouTubeVideo(grouped.groups.keys()[idx])"
   ]
  },
  {
   "cell_type": "code",
   "execution_count": 89,
   "metadata": {},
   "outputs": [
    {
     "name": "stdout",
     "output_type": "stream",
     "text": [
      "jDGrgBt83DU\n"
     ]
    }
   ],
   "source": [
    "# Good id jDGrgBt83DU"
   ]
  },
  {
   "cell_type": "code",
   "execution_count": null,
   "metadata": {
    "collapsed": true
   },
   "outputs": [],
   "source": []
  }
 ],
 "metadata": {
  "kernelspec": {
   "display_name": "Python 2",
   "language": "python",
   "name": "python2"
  },
  "language_info": {
   "codemirror_mode": {
    "name": "ipython",
    "version": 2
   },
   "file_extension": ".py",
   "mimetype": "text/x-python",
   "name": "python",
   "nbconvert_exporter": "python",
   "pygments_lexer": "ipython2",
   "version": "2.7.13"
  }
 },
 "nbformat": 4,
 "nbformat_minor": 2
}
