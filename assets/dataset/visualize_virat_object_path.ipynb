{
 "cells": [
  {
   "cell_type": "markdown",
   "metadata": {},
   "source": [
    "# VIRAT Clip Generator"
   ]
  },
  {
   "cell_type": "code",
   "execution_count": 1,
   "metadata": {},
   "outputs": [],
   "source": [
    "DEFAULT_PATH           = '/media/dat/dataset/VIRAT'\n",
    "EXAMPLE                = 'VIRAT_S_000200_06_001693_001824'\n",
    "\n",
    "# {0}: original video file name\n",
    "# {1}: chunk number\n",
    "# {2}: current frame\n",
    "OUTPUT_FORMAT    = '{0}_{1}_{2}.png'\n",
    "OUTPUT_DIR = './outputs'\n",
    "\n",
    "## PARAMTERS\n",
    "CHUNK = 50\n",
    "OFFSET = 200"
   ]
  },
  {
   "cell_type": "code",
   "execution_count": 2,
   "metadata": {},
   "outputs": [],
   "source": [
    "import os\n",
    "import cv2\n",
    "import numpy as np\n",
    "import matplotlib.pyplot as plt\n",
    "from write_html import writeHTML\n",
    "%matplotlib inline"
   ]
  },
  {
   "cell_type": "code",
   "execution_count": 3,
   "metadata": {},
   "outputs": [],
   "source": [
    "SELECTED_OBJECT_TYPE   = [ 2, 3]  # only pick pedastrian, car or vehicles\n",
    "object_anno_fields     = ['object_id', 'object_duration', 'current_frame',\n",
    "                          'left_top_x','left_top_y', 'width', 'height', \n",
    "                          'object_type']"
   ]
  },
  {
   "cell_type": "code",
   "execution_count": 4,
   "metadata": {},
   "outputs": [],
   "source": [
    "DEFAULT_ANNOTATION_DIR = os.path.join(DEFAULT_PATH,'annotations')\n",
    "DEFAULT_VIDEO_DIR      = os.path.join(DEFAULT_PATH,'videos_original')"
   ]
  },
  {
   "cell_type": "markdown",
   "metadata": {},
   "source": [
    "## Proccess Object Annotation File \n",
    "File format: `*viratdata.objects.txt`\n",
    "\n",
    "|Column| Type |Comment|\n",
    "|---|:------|:--------|\n",
    "|1| Object id|a unique identifier of an object track. Unique within a file.|\n",
    "|2| Object duration | duration of the object track|\n",
    "|3| Currnet frame|corresponding frame number|\n",
    "|4| bbox lefttop x|horizontal x coordinate of the left top of bbox, origin is lefttop of the frame|\n",
    "|5| bbox lefttop y|vertical y coordinate of the left top of bbox, origin is lefttop of the frame|\n",
    "|6| bbox width|horizontal width of the bbox|\n",
    "|7| bbox height|vertical height of the bbox|\n",
    "|8| Object Type|object type|\n",
    "\n",
    "Object Type ID (for column 8 above for object files)\n",
    "\n",
    "ID | Type|\n",
    "---|:----|\n",
    "1| person\n",
    "2| car              (usually passenger vehicles such as sedan, truck)\n",
    "3| vehicles         (vehicles other than usual passenger cars. Examples include construction vehicles)\n",
    "4| object           (neither car or person, usually carried objects)\n",
    "5| bike, bicylces   (may include engine-powered auto-bikes)"
   ]
  },
  {
   "cell_type": "code",
   "execution_count": 5,
   "metadata": {},
   "outputs": [],
   "source": [
    "import os\n",
    "import pandas as pd\n",
    "\n",
    "annotation_path = os.path.join(DEFAULT_ANNOTATION_DIR, EXAMPLE + '.viratdata.objects.txt')\n",
    "df = pd.read_csv(annotation_path, delim_whitespace =True, names=object_anno_fields)\n",
    "\n",
    "# Group each objects appeared in the video by object id\n",
    "separated_objects_by_id = df.groupby('object_id')"
   ]
  },
  {
   "cell_type": "code",
   "execution_count": 6,
   "metadata": {},
   "outputs": [
    {
     "name": "stdout",
     "output_type": "stream",
     "text": [
      "Object is not in selected object type\n",
      "Number of annotated objects in the video 3\n"
     ]
    }
   ],
   "source": [
    "# Generate a list of _boxes for each objects appear in the video\n",
    "object_bboxes = []\n",
    "temp_frames   = []\n",
    "for id, obj in separated_objects_by_id:\n",
    "    # Only ke\n",
    "    if obj['object_type'].values[0] not in SELECTED_OBJECT_TYPE:\n",
    "        print('Object is not in selected object type')\n",
    "        continue\n",
    "    # Extract the bounding boxes\n",
    "    upper_left_pts   = zip(obj['left_top_x'].values, obj['left_top_y'].values)\n",
    "    width_height_lst = zip(obj['width'].values,      obj['height'].values)\n",
    "    lower_right_pts  = [(px + w, py + h) for (px, py),(w, h) in zip(upper_left_pts, width_height_lst)]\n",
    "    bbox_lst = [[(px1, py1), (px2, py2)] for (px1, py1), (px2, py2) in zip(upper_left_pts, lower_right_pts)]\n",
    "    object_bboxes.append(bbox_lst)\n",
    "    temp_frames.append(obj)\n",
    "  \n",
    "print \"Number of annotated objects in the video %s\"%len(object_bboxes)\n",
    "grouped_objects = pd.concat(temp_frames).groupby('object_id')"
   ]
  },
  {
   "cell_type": "code",
   "execution_count": 8,
   "metadata": {},
   "outputs": [
    {
     "name": "stdout",
     "output_type": "stream",
     "text": [
      "Seltected 8 from: [8, 10, 7]\n",
      "Number of required frames: 75\n"
     ]
    }
   ],
   "source": [
    "# Download FFMEG to display video if not available\n",
    "import imageio\n",
    "imageio.plugins.ffmpeg.download()\n",
    "from moviepy.editor import *\n",
    "import random\n",
    "\n",
    "# pick random object in grouped object\n",
    "SELECTED_OBJECT =  random.choice(grouped_objects.groups.keys()) # ID of object in the video\n",
    "OBJECT_IDX      = grouped_objects.groups.keys().index(SELECTED_OBJECT)\n",
    "\n",
    "print(\"Seltected {} from: {}\".format(SELECTED_OBJECT, grouped_objects.groups.keys()))\n",
    "# Get path\n",
    "video_path = os.path.join(DEFAULT_VIDEO_DIR, EXAMPLE+'.mp4')\n",
    "\n",
    "# Construct video\n",
    "videoclip = VideoFileClip(video_path)\n",
    "\n",
    "# In this example, we only show the video when the selected object appears\n",
    "appear_frames = grouped_objects.get_group(SELECTED_OBJECT)['current_frame'].values\n",
    "\n",
    "start_frame   = np.min(appear_frames)\n",
    "end_frame     = np.max(appear_frames)\n",
    "\n",
    "# Select duration object appears\n",
    "clip = videoclip.subclip(start_frame/videoclip.fps, end_frame/videoclip.fps)\n",
    "\n",
    "# Get object bounding boxes\n",
    "bboxes_of_object = object_bboxes[OBJECT_IDX]\n",
    "print \"Number of required frames: %s\"%len(bboxes_of_object)"
   ]
  },
  {
   "cell_type": "code",
   "execution_count": 26,
   "metadata": {},
   "outputs": [],
   "source": [
    "def generate_focused_area_mask(image, boxes_list, offset, color, thickness=5):\n",
    "    '''Gernate crop area'''\n",
    "    \n",
    "    bboxes = np.array(boxes_list)\n",
    "    height, width, _ = image.shape\n",
    "    \n",
    "    min_x = max(min(bboxes[:, 0, 0] - offset), 0.)\n",
    "    min_y = max(min(bboxes[:, 0, 1] - offset), 0.)\n",
    "    max_x = min(max(bboxes[:, 1, 0] + offset), width)\n",
    "    max_y = min(max(bboxes[:, 1, 1] + offset), height)\n",
    "    p1 = (int(min_x), int(min_y))\n",
    "    p2 = (int(max_x), int(max_y))\n",
    "    mask = np.zeros_like(image)\n",
    "    mask = cv2.rectangle(mask, \n",
    "                         p1, \n",
    "                         p2, \n",
    "                         color, thickness=5)\n",
    "\n",
    "    return mask, p1, p2\n",
    "    \n",
    "def generate_object_trajectory(image, boxes_list, color, opacity=50):\n",
    "    ''' \n",
    "    Visualize object path on video using list of boxes from ground truths\n",
    "    '''\n",
    "    copied_img = np.copy(image)\n",
    "    transparency = opacity/100.\n",
    "    for (p1, p2) in boxes_list:\n",
    "        # Calculate centroid\n",
    "        x = p1[0] + (p2[0] - p1[0])/2.\n",
    "        y = p1[1] + (p2[1] - p1[1])/2.\n",
    "        centroid = (int(x), int(y))\n",
    "        drawed_img = cv2.circle(copied_img, centroid, radius=3, color=color)\n",
    "        \n",
    "         # apply the overlay\n",
    "        cv2.addWeighted(copied_img, 1 - transparency, \n",
    "                        drawed_img, transparency, 0, copied_img)\n",
    "    return copied_img\n",
    "\n",
    "class Color(object):\n",
    "    '''Simple Color Mapper'''\n",
    "    red    = [255, 0, 0]\n",
    "    green  = [0, 255, 0]\n",
    "    blue   = [0, 0, 255]\n",
    "    yellow = [255, 255, 0]\n",
    "    def random(self): return np.random.randint(0, 255, size=3)\n",
    "\n",
    "def filter_ouliner(data,m = 2):\n",
    "    data = data[abs(data - np.mean(data)) < m * np.std(data)]\n",
    "    if len(data) > 0:\n",
    "        return data\n",
    "    else:\n",
    "        return [np.mean(data)]"
   ]
  },
  {
   "cell_type": "code",
   "execution_count": 31,
   "metadata": {},
   "outputs": [
    {
     "name": "stdout",
     "output_type": "stream",
     "text": [
      "Done\n"
     ]
    }
   ],
   "source": [
    "# Split each bboxes into chunk for generating focused area\n",
    "bbox_arr    = np.asarray(bboxes_of_object)\n",
    "num_chunk   =  len(bbox_arr) / 50\n",
    "bbox_chunks = np.array_split(bbox_arr,num_chunk)\n",
    "\n",
    "# Generate a image mask, size of the clip's dimension\n",
    "empty_mask = np.zeros_like(clip.get_frame(0))\n",
    "\n",
    "object_trajectory = generate_object_trajectory(empty_mask, bboxes_of_object, \n",
    "                                               color=Color.green, \n",
    "                                               opacity=60)\n",
    "    \n",
    "# For each frames, draw all the appear bounding boxes:\n",
    "processed_frames = []\n",
    "prev_frames = 0\n",
    "captions = []\n",
    "image_paths =[]\n",
    "\n",
    "OUTPUT_FOLDER = os.path.join(OUTPUT_DIR)\n",
    "if not os.path.isdir(OUTPUT_FOLDER):\n",
    "    os.mkdir(OUTPUT_FOLDER)\n",
    "\n",
    "for i, bbox_chunk in enumerate(bbox_chunks):\n",
    "    prev_frames += len(bbox_chunk)\n",
    "    focused_area_mask, p1, p2 =  generate_focused_area_mask(empty_mask, \n",
    "                                                    bbox_chunk, \n",
    "                                                    color=Color.yellow, \n",
    "                                                    offset=OFFSET)\n",
    "    for idx, (p1, p2) in enumerate(bbox_chunk):\n",
    "        # Get current frame from clip\n",
    "        frame = clip.get_frame(float(idx+prev_frames - 60)/clip.fps)\n",
    "        \n",
    "        # Draw bounding box of the object on current frame\n",
    "        cv2.rectangle(frame, (p1[0], p1[1]), (p2[0], p2[1]), color=Color.green, thickness=4)\n",
    "        \n",
    "        # Add object flow mask to current frame\n",
    "        flow_frame = cv2.addWeighted(frame, 1.0, object_trajectory, 0.5, 0)\n",
    "        \n",
    "        # Add cropped area to frame\n",
    "        cropped_frame = cv2.addWeighted(flow_frame, 1.0, focused_area_mask, 1.0, 0)\n",
    "        \n",
    "#         cropped_frame = cropped_frame[p1[0]:p1[1], p2[0]:p2[1]]\n",
    "        filename = OUTPUT_FORMAT.format(EXAMPLE,i, idx)\n",
    "        saved_path = os.path.join(OUTPUT_FOLDER, filename)\n",
    "        cv2.imwrite(saved_path, cropped_frame)\n",
    "        \n",
    "        image_paths.append(saved_path)\n",
    "        captions.append(filename)\n",
    "        processed_frames.append(cropped_frame)\n",
    "\n",
    "        del cropped_frame\n",
    "print(\"Done\")\n",
    "# # Generate new video clip\n",
    "# new_clip = ImageSequenceClip(processed_frames, fps=clip.fps)\n",
    "# # ipython_display(new_clip, width=320)\n",
    "# new_clip.write_videofile('processed_clip_car.mp4', fps=clip.fps)"
   ]
  },
  {
   "cell_type": "code",
   "execution_count": 32,
   "metadata": {},
   "outputs": [
    {
     "name": "stdout",
     "output_type": "stream",
     "text": [
      "75\n"
     ]
    }
   ],
   "source": [
    "print(len(image_paths))\n",
    "\n",
    "cols = int(len(image_paths)/5)\n",
    "rows = int(len(image_paths)/cols)\n",
    "img_paths = np.reshape(image_paths, ( cols, rows))\n",
    "captions = np.reshape(captions, ( cols, rows))\n"
   ]
  },
  {
   "cell_type": "code",
   "execution_count": 33,
   "metadata": {},
   "outputs": [],
   "source": [
    "# # reshape into working format\n",
    "# image_paths.reshape()\n",
    "# # Save frames into output folder\n",
    "writeHTML('result.html', img_paths, captions)"
   ]
  },
  {
   "cell_type": "code",
   "execution_count": null,
   "metadata": {},
   "outputs": [],
   "source": []
  }
 ],
 "metadata": {
  "kernelspec": {
   "display_name": "Python 2",
   "language": "python",
   "name": "python2"
  },
  "language_info": {
   "codemirror_mode": {
    "name": "ipython",
    "version": 2
   },
   "file_extension": ".py",
   "mimetype": "text/x-python",
   "name": "python",
   "nbconvert_exporter": "python",
   "pygments_lexer": "ipython2",
   "version": "2.7.14"
  }
 },
 "nbformat": 4,
 "nbformat_minor": 2
}
