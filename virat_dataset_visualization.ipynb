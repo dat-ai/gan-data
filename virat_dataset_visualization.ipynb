{
 "cells": [
  {
   "cell_type": "markdown",
   "metadata": {},
   "source": [
    "# VIRAT DATASET - OBJECT VISUALIZATION\n",
    "\n",
    "Show numbers of object per object_id\n",
    "\n",
    "|Column| Type |Comment|\n",
    "|---|:------|:--------|\n",
    "|1| Object id|a unique identifier of an object track. Unique within a file.|\n",
    "|2| Object duration | duration of the object track|\n",
    "|3| Currnet frame|corresponding frame number|\n",
    "|4| bbox lefttop x|horizontal x coordinate of the left top of bbox, origin is lefttop of the frame|\n",
    "|5| bbox lefttop y|vertical y coordinate of the left top of bbox, origin is lefttop of the frame|\n",
    "|6| bbox width|horizontal width of the bbox|\n",
    "|7| bbox height|vertical height of the bbox|\n",
    "|8| Object Type|object type|\n",
    "\n",
    "Object Type ID (for column 8 above for object files)\n",
    "\n",
    "ID | Type|\n",
    "---|:----|\n",
    "1| person\n",
    "2| car              (usually passenger vehicles such as sedan, truck)\n",
    "3| vehicles         (vehicles other than usual passenger cars. Examples include construction vehicles)\n",
    "4| object           (neither car or person, usually carried objects)\n",
    "5| bike, bicylces   (may include engine-powered auto-bikes)"
   ]
  },
  {
   "cell_type": "code",
   "execution_count": 1,
   "metadata": {
    "collapsed": true
   },
   "outputs": [],
   "source": [
    "import os\n",
    "import numpy as np\n",
    "import pandas as pd\n",
    "import matplotlib.pyplot as plt\n",
    "%matplotlib inline\n",
    "\n",
    "object_anno_fields     = ['object_id', 'object_duration', 'current_frame','left_top_x','left_top_y', 'width', 'height', 'object_type']\n",
    "DEFAULT_ANNOTATION_DIR = './annotations'"
   ]
  },
  {
   "cell_type": "code",
   "execution_count": 5,
   "metadata": {},
   "outputs": [
    {
     "name": "stdout",
     "output_type": "stream",
     "text": [
      "Number of data points: 9822777\n",
      "Number of annotated object: 11833\n"
     ]
    }
   ],
   "source": [
    "# Find all the object annotation files\n",
    "all_object_annotation_paths = []\n",
    "for root, dirs, files in os.walk(DEFAULT_ANNOTATION_DIR):\n",
    "    for f in files:\n",
    "        if f.endswith('.viratdata.objects.txt'):\n",
    "            fpath =  os.path.join(DEFAULT_ANNOTATION_DIR, f)\n",
    "            all_object_annotation_paths.append(fpath)\n",
    "            \n",
    "frames = []\n",
    "prev_idx = 0\n",
    "for idx, path in enumerate(all_object_annotation_paths):\n",
    "    annotation_file = pd.read_csv(path, delim_whitespace=True, names=object_anno_fields)\n",
    "    # Intentionally created new object id to count total number of annotated objects\n",
    "    annotation_file['object_id'] += idx\n",
    "    annotation_file['object_id'] += prev_idx\n",
    "    prev_idx = np.max(annotation_file['object_id'].values)    \n",
    "    frames.append(annotation_file)\n",
    "\n",
    "df = pd.concat(frames)\n",
    "\n",
    "print 'Number of data points: %s'%len(df)\n",
    "print 'Number of annotated object: %s'%df['object_id'].nunique()"
   ]
  },
  {
   "cell_type": "code",
   "execution_count": 19,
   "metadata": {},
   "outputs": [
    {
     "data": {
      "text/html": [
       "<div>\n",
       "<style>\n",
       "    .dataframe thead tr:only-child th {\n",
       "        text-align: right;\n",
       "    }\n",
       "\n",
       "    .dataframe thead th {\n",
       "        text-align: left;\n",
       "    }\n",
       "\n",
       "    .dataframe tbody tr th {\n",
       "        vertical-align: top;\n",
       "    }\n",
       "</style>\n",
       "<table border=\"1\" class=\"dataframe\">\n",
       "  <thead>\n",
       "    <tr style=\"text-align: right;\">\n",
       "      <th></th>\n",
       "      <th>object_duration</th>\n",
       "      <th>current_frame</th>\n",
       "      <th>left_top_x</th>\n",
       "      <th>left_top_y</th>\n",
       "      <th>width</th>\n",
       "      <th>height</th>\n",
       "      <th>object_type</th>\n",
       "    </tr>\n",
       "    <tr>\n",
       "      <th>object_id</th>\n",
       "      <th></th>\n",
       "      <th></th>\n",
       "      <th></th>\n",
       "      <th></th>\n",
       "      <th></th>\n",
       "      <th></th>\n",
       "      <th></th>\n",
       "    </tr>\n",
       "  </thead>\n",
       "  <tbody>\n",
       "    <tr>\n",
       "      <th>1</th>\n",
       "      <td>385</td>\n",
       "      <td>3455</td>\n",
       "      <td>1</td>\n",
       "      <td>492</td>\n",
       "      <td>68</td>\n",
       "      <td>97</td>\n",
       "      <td>1</td>\n",
       "    </tr>\n",
       "    <tr>\n",
       "      <th>3</th>\n",
       "      <td>4732</td>\n",
       "      <td>0</td>\n",
       "      <td>606</td>\n",
       "      <td>0</td>\n",
       "      <td>85</td>\n",
       "      <td>29</td>\n",
       "      <td>2</td>\n",
       "    </tr>\n",
       "    <tr>\n",
       "      <th>4</th>\n",
       "      <td>6951</td>\n",
       "      <td>3591</td>\n",
       "      <td>0</td>\n",
       "      <td>381</td>\n",
       "      <td>58</td>\n",
       "      <td>124</td>\n",
       "      <td>1</td>\n",
       "    </tr>\n",
       "    <tr>\n",
       "      <th>5</th>\n",
       "      <td>2831</td>\n",
       "      <td>9139</td>\n",
       "      <td>908</td>\n",
       "      <td>0</td>\n",
       "      <td>83</td>\n",
       "      <td>31</td>\n",
       "      <td>2</td>\n",
       "    </tr>\n",
       "    <tr>\n",
       "      <th>7</th>\n",
       "      <td>498</td>\n",
       "      <td>10068</td>\n",
       "      <td>0</td>\n",
       "      <td>425</td>\n",
       "      <td>48</td>\n",
       "      <td>31</td>\n",
       "      <td>4</td>\n",
       "    </tr>\n",
       "    <tr>\n",
       "      <th>8</th>\n",
       "      <td>261</td>\n",
       "      <td>3456</td>\n",
       "      <td>13</td>\n",
       "      <td>501</td>\n",
       "      <td>42</td>\n",
       "      <td>42</td>\n",
       "      <td>4</td>\n",
       "    </tr>\n",
       "    <tr>\n",
       "      <th>10</th>\n",
       "      <td>951</td>\n",
       "      <td>9635</td>\n",
       "      <td>857</td>\n",
       "      <td>362</td>\n",
       "      <td>52</td>\n",
       "      <td>57</td>\n",
       "      <td>1</td>\n",
       "    </tr>\n",
       "    <tr>\n",
       "      <th>11</th>\n",
       "      <td>3306</td>\n",
       "      <td>15383</td>\n",
       "      <td>761</td>\n",
       "      <td>0</td>\n",
       "      <td>93</td>\n",
       "      <td>39</td>\n",
       "      <td>2</td>\n",
       "    </tr>\n",
       "    <tr>\n",
       "      <th>13</th>\n",
       "      <td>1753</td>\n",
       "      <td>15856</td>\n",
       "      <td>1221</td>\n",
       "      <td>301</td>\n",
       "      <td>54</td>\n",
       "      <td>43</td>\n",
       "      <td>1</td>\n",
       "    </tr>\n",
       "    <tr>\n",
       "      <th>17</th>\n",
       "      <td>520</td>\n",
       "      <td>17154</td>\n",
       "      <td>1244</td>\n",
       "      <td>171</td>\n",
       "      <td>38</td>\n",
       "      <td>35</td>\n",
       "      <td>4</td>\n",
       "    </tr>\n",
       "  </tbody>\n",
       "</table>\n",
       "</div>"
      ],
      "text/plain": [
       "           object_duration  current_frame  left_top_x  left_top_y  width  \\\n",
       "object_id                                                                  \n",
       "1                      385           3455           1         492     68   \n",
       "3                     4732              0         606           0     85   \n",
       "4                     6951           3591           0         381     58   \n",
       "5                     2831           9139         908           0     83   \n",
       "7                      498          10068           0         425     48   \n",
       "8                      261           3456          13         501     42   \n",
       "10                     951           9635         857         362     52   \n",
       "11                    3306          15383         761           0     93   \n",
       "13                    1753          15856        1221         301     54   \n",
       "17                     520          17154        1244         171     38   \n",
       "\n",
       "           height  object_type  \n",
       "object_id                       \n",
       "1              97            1  \n",
       "3              29            2  \n",
       "4             124            1  \n",
       "5              31            2  \n",
       "7              31            4  \n",
       "8              42            4  \n",
       "10             57            1  \n",
       "11             39            2  \n",
       "13             43            1  \n",
       "17             35            4  "
      ]
     },
     "execution_count": 19,
     "metadata": {},
     "output_type": "execute_result"
    }
   ],
   "source": [
    "df1 = df.groupby('object_id').min()\n",
    "df1[0:10]"
   ]
  },
  {
   "cell_type": "code",
   "execution_count": 20,
   "metadata": {},
   "outputs": [
    {
     "data": {
      "text/plain": [
       "<matplotlib.axes._subplots.AxesSubplot at 0x7fd806066190>"
      ]
     },
     "execution_count": 20,
     "metadata": {},
     "output_type": "execute_result"
    },
    {
     "data": {
      "image/png": "[encoded data removed]",
      "text/plain": [
       "<matplotlib.figure.Figure at 0x7fd805f0ef10>"
      ]
     },
     "metadata": {},
     "output_type": "display_data"
    }
   ],
   "source": [
    "# Plot numbers of object per category\n",
    "object_frequencies = df1['object_type'].value_counts(sort=False)\n",
    "object_frequencies.plot.bar(title='Numbers of object per category')"
   ]
  },
  {
   "cell_type": "markdown",
   "metadata": {},
   "source": [
    "* Annotation file has noise or missing labels. In documentation, author only lists label for object_type from 1->5"
   ]
  },
  {
   "cell_type": "code",
   "execution_count": 21,
   "metadata": {},
   "outputs": [
    {
     "data": {
      "text/plain": [
       "<matplotlib.axes._subplots.AxesSubplot at 0x7fd805fa9410>"
      ]
     },
     "execution_count": 21,
     "metadata": {},
     "output_type": "execute_result"
    },
    {
     "data": {
      "image/png": "[encoded data removed]",
      "text/plain": [
       "<matplotlib.figure.Figure at 0x7fd806672c90>"
      ]
     },
     "metadata": {},
     "output_type": "display_data"
    }
   ],
   "source": [
    "df1.plot(kind='scatter', x='object_duration', y='object_duration')"
   ]
  }
 ],
 "metadata": {
  "kernelspec": {
   "display_name": "Python 2",
   "language": "python",
   "name": "python2"
  },
  "language_info": {
   "codemirror_mode": {
    "name": "ipython",
    "version": 2
   },
   "file_extension": ".py",
   "mimetype": "text/x-python",
   "name": "python",
   "nbconvert_exporter": "python",
   "pygments_lexer": "ipython2",
   "version": "2.7.13"
  }
 },
 "nbformat": 4,
 "nbformat_minor": 2
}
